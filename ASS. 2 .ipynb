{
 "cells": [
  {
   "cell_type": "code",
   "execution_count": 32,
   "id": "c4f21748-9bcd-4fda-afca-72b26079a7e5",
   "metadata": {},
   "outputs": [
    {
     "name": "stdout",
     "output_type": "stream",
     "text": [
      "[1, 3, 5, 7, 9, 11, 13, 15, 17, 19, 21, 23, 25]\n"
     ]
    }
   ],
   "source": [
    "\"\"\"QTS.1, create a function to return a list of odd number between 1 to 25\"\"\"\n",
    "\"\"\"def keyword is used for creating a function\"\"\"\n",
    "\n",
    "l=list(range(1,26,2))\n",
    "def odd():\n",
    "    return(l)\n",
    "\n",
    "print(l)                       "
   ]
  },
  {
   "cell_type": "code",
   "execution_count": 39,
   "id": "65b37c61-f4cc-480e-a022-8465326f409f",
   "metadata": {},
   "outputs": [],
   "source": [
    "\"\"\"QTS.2 ,usage of *args and **kwargs in function\"\"\"\n",
    "\"\"\"these are used to make a function dynamic , accept n number of user input\"\"\"\n",
    "\n",
    "def test1(*args,a):\n",
    "    return(args,a)\n"
   ]
  },
  {
   "cell_type": "code",
   "execution_count": 35,
   "id": "7ed4e85f-0565-4f57-a9c9-91d2db6cb495",
   "metadata": {},
   "outputs": [
    {
     "data": {
      "text/plain": [
       "(12, 3, 5, 6, 7, 5)"
      ]
     },
     "execution_count": 35,
     "metadata": {},
     "output_type": "execute_result"
    }
   ],
   "source": [
    "test1(12,3,5,6,7,a=5)"
   ]
  },
  {
   "cell_type": "code",
   "execution_count": 41,
   "id": "9dcf9d6d-c46c-4c8b-ae1e-d379492e472a",
   "metadata": {},
   "outputs": [],
   "source": [
    "def test2(**kwargs):\n",
    "    return(kwargs)\n"
   ]
  },
  {
   "cell_type": "code",
   "execution_count": 42,
   "id": "38c1ab95-5b6f-477e-ade1-f675e4b7c75d",
   "metadata": {},
   "outputs": [
    {
     "data": {
      "text/plain": [
       "{'a': 5, 'c': 0, 'b': 'pwskills', 'v': 'kumar', 'f': [1, 2, 3, 4, 5, 6, 7, 8]}"
      ]
     },
     "execution_count": 42,
     "metadata": {},
     "output_type": "execute_result"
    }
   ],
   "source": [
    "test2(a=5,c=0,b=\"pwskills\",v=\"kumar\",f=[1,2,3,4,5,6,7,8])"
   ]
  },
  {
   "cell_type": "code",
   "execution_count": 17,
   "id": "9fdabef7-765e-4e10-ac8b-2d0a856deeba",
   "metadata": {},
   "outputs": [
    {
     "name": "stdout",
     "output_type": "stream",
     "text": [
      "2\n",
      "4\n",
      "6\n",
      "8\n",
      "10\n"
     ]
    }
   ],
   "source": [
    "\"\"\"QTS.3 ,ITERATOR is an object that contains a countable number of values\n",
    ",___init()___ is used to initialize an iterator\n",
    ",___iter()___ is used to return an iterator for the object\"\"\"\n",
    "\n",
    "l=[2,4,6,8,10,12,14,16,18,20]\n",
    "count=1\n",
    "num=iter(l)\n",
    "for i in l:\n",
    "    if count<=5:\n",
    "        print(next(num))\n",
    "    count=count+1\n"
   ]
  },
  {
   "cell_type": "code",
   "execution_count": 50,
   "id": "1c67c022-7b06-4e1c-b1b3-d267bedc5a54",
   "metadata": {},
   "outputs": [],
   "source": [
    "\"\"\"QTS.4,a generator function is a function that returns an itertor that produces a sequence of values when iterated over\n",
    "   ,yield keyword is used to control the flow of function\"\"\"\n",
    "\n",
    "def test(n):\n",
    "       for i in range(n):\n",
    "            yield(i)\n",
    "             \n",
    "c=test(10)            \n",
    "           "
   ]
  },
  {
   "cell_type": "code",
   "execution_count": 51,
   "id": "bc332efc-8e46-408f-80e0-00a430d37a4d",
   "metadata": {},
   "outputs": [
    {
     "name": "stdout",
     "output_type": "stream",
     "text": [
      "0\n",
      "1\n",
      "2\n",
      "3\n",
      "4\n",
      "5\n",
      "6\n",
      "7\n",
      "8\n",
      "9\n"
     ]
    }
   ],
   "source": [
    "for i in c:\n",
    "    print(i)"
   ]
  },
  {
   "cell_type": "code",
   "execution_count": 92,
   "id": "48f2c97c-8d1c-430c-aed3-e78d2dee66b3",
   "metadata": {},
   "outputs": [],
   "source": [
    "\"\"\"QTS.5\"\"\"\n",
    "\n",
    "count=1\n",
    "def prime():\n",
    "    for i in range(1001):\n",
    "            if i>1 and i%1==0 and i%i==0:\n",
    "                    yield i\n",
    "\n",
    "            \n",
    "                      "
   ]
  },
  {
   "cell_type": "code",
   "execution_count": 95,
   "id": "663ceee6-5c2a-413f-b360-2c89dc8ca489",
   "metadata": {},
   "outputs": [
    {
     "name": "stdout",
     "output_type": "stream",
     "text": [
      "3\n",
      "5\n",
      "7\n",
      "9\n",
      "11\n",
      "13\n",
      "15\n",
      "17\n",
      "19\n",
      "21\n",
      "23\n",
      "25\n",
      "27\n",
      "29\n",
      "31\n",
      "33\n",
      "35\n",
      "37\n",
      "39\n",
      "41\n"
     ]
    }
   ],
   "source": [
    "t=prime()\n",
    "for i in t:\n",
    "    if count<=20:\n",
    "        print(next(t))\n",
    "        count=count+1"
   ]
  },
  {
   "cell_type": "code",
   "execution_count": 41,
   "id": "595474bc-b3fc-4fca-9b5e-25ebbfbbb659",
   "metadata": {},
   "outputs": [
    {
     "name": "stdout",
     "output_type": "stream",
     "text": [
      "0\n",
      "1\n",
      "1\n",
      "2\n",
      "3\n",
      "5\n",
      "8\n",
      "13\n",
      "21\n",
      "34\n"
     ]
    }
   ],
   "source": [
    "\"\"\"QTS.6 \"\"\"\n",
    "a=0\n",
    "b=1\n",
    "count=1\n",
    "n=11\n",
    "while count<n:\n",
    "    print(a)\n",
    "    c=a+b\n",
    "    a=b\n",
    "    b=c\n",
    "    count=count+1\n",
    "       "
   ]
  },
  {
   "cell_type": "code",
   "execution_count": 15,
   "id": "889080a4-64bd-4fab-8f35-4811ba571428",
   "metadata": {},
   "outputs": [
    {
     "data": {
      "text/plain": [
       "['p', 'w', 's', 'k', 'i', 'l', 'l', 's']"
      ]
     },
     "execution_count": 15,
     "metadata": {},
     "output_type": "execute_result"
    }
   ],
   "source": [
    "\"\"\"QTS. 7\"\"\"\n",
    "\n",
    "\n",
    "str=list(\"pwskills\")\n",
    "[i for i in str]"
   ]
  },
  {
   "cell_type": "code",
   "execution_count": 10,
   "id": "8ea5ef14-640d-400a-b266-0315f89f4cdf",
   "metadata": {},
   "outputs": [
    {
     "name": "stdin",
     "output_type": "stream",
     "text": [
      "enter any integer number 678\n"
     ]
    },
    {
     "name": "stdout",
     "output_type": "stream",
     "text": [
      "not a palindromic number\n"
     ]
    }
   ],
   "source": [
    "\"\"\"QTS.8\"\"\"\n",
    "\n",
    "num=int(input(\"enter any integer number\"))\n",
    "\n",
    "rev=0\n",
    "k=num\n",
    "while num>0:\n",
    "    rem=num%10\n",
    "    rev=rev*10+rem\n",
    "    num=num/10\n",
    "if rev==k:\n",
    "    print(\"palindromic number\")\n",
    "else:\n",
    "    print(\"not a palindromic number\")"
   ]
  },
  {
   "cell_type": "code",
   "execution_count": 1,
   "id": "0c44f837-734e-4954-8f31-cfd235117f1a",
   "metadata": {},
   "outputs": [
    {
     "data": {
      "text/plain": [
       "[1,\n",
       " 3,\n",
       " 5,\n",
       " 7,\n",
       " 9,\n",
       " 11,\n",
       " 13,\n",
       " 15,\n",
       " 17,\n",
       " 19,\n",
       " 21,\n",
       " 23,\n",
       " 25,\n",
       " 27,\n",
       " 29,\n",
       " 31,\n",
       " 33,\n",
       " 35,\n",
       " 37,\n",
       " 39,\n",
       " 41,\n",
       " 43,\n",
       " 45,\n",
       " 47,\n",
       " 49,\n",
       " 51,\n",
       " 53,\n",
       " 55,\n",
       " 57,\n",
       " 59,\n",
       " 61,\n",
       " 63,\n",
       " 65,\n",
       " 67,\n",
       " 69,\n",
       " 71,\n",
       " 73,\n",
       " 75,\n",
       " 77,\n",
       " 79,\n",
       " 81,\n",
       " 83,\n",
       " 85,\n",
       " 87,\n",
       " 89,\n",
       " 91,\n",
       " 93,\n",
       " 95,\n",
       " 97,\n",
       " 99]"
      ]
     },
     "execution_count": 1,
     "metadata": {},
     "output_type": "execute_result"
    }
   ],
   "source": [
    "\"\"\"QTS.9\"\"\"\n",
    "\n",
    "l=[i for i in range(1,101)]\n",
    "\n",
    "[i for i in l if i%2!=0 ]"
   ]
  },
  {
   "cell_type": "code",
   "execution_count": null,
   "id": "dec317d5-1be7-46c4-a071-7f4c5d811981",
   "metadata": {},
   "outputs": [],
   "source": []
  }
 ],
 "metadata": {
  "kernelspec": {
   "display_name": "Python 3 (ipykernel)",
   "language": "python",
   "name": "python3"
  },
  "language_info": {
   "codemirror_mode": {
    "name": "ipython",
    "version": 3
   },
   "file_extension": ".py",
   "mimetype": "text/x-python",
   "name": "python",
   "nbconvert_exporter": "python",
   "pygments_lexer": "ipython3",
   "version": "3.10.8"
  }
 },
 "nbformat": 4,
 "nbformat_minor": 5
}
